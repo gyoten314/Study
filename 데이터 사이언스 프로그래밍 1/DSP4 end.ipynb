{
 "cells": [
  {
   "cell_type": "markdown",
   "metadata": {},
   "source": [
    "# Data Science Programming1 -2"
   ]
  },
  {
   "cell_type": "markdown",
   "metadata": {},
   "source": [
    "### 멱집합"
   ]
  },
  {
   "cell_type": "code",
   "execution_count": 1,
   "metadata": {},
   "outputs": [],
   "source": [
    "def powerset(nums):\n",
    "    result = [[]]  # 빈 리스트로 시작해서 빈 집합을 포함하는 파워셋을 만듭니다.\n",
    "    \n",
    "    for num in nums:\n",
    "        new_subsets = [subset + [num] for subset in result]\n",
    "        result.extend(new_subsets)\n",
    "        \n",
    "    return result\n"
   ]
  },
  {
   "cell_type": "markdown",
   "metadata": {},
   "source": [
    "코드 설명:\n",
    "빈 리스트로 시작하기: result = [[]]\n",
    "\n",
    "result 리스트에 빈 리스트 [] 하나를 초기값으로 넣습니다. 이는 빈 집합을 포함하는 파워셋을 나타냅니다.\n",
    "입력 리스트 순회하기: for num in nums:\n",
    "\n",
    "입력으로 주어진 nums 리스트의 각 원소 num에 대해 반복합니다.\n",
    "새로운 부분집합 만들기:\n",
    "\n",
    "new_subsets = [subset + [num] for subset in result]\n",
    "result 리스트에 있는 각 부분집합(subset)에 대해 새로운 원소 num을 추가한 리스트를 생성합니다.\n",
    "예를 들어, result가 [[], [1], [2], [1, 2]]일 때, num이 3이라면 [[], [1], [2], [1, 2]] 각각에 [3]을 추가하여 새로운 부분집합들을 만듭니다. 결과는 new_subsets에 저장됩니다.\n",
    "결과 업데이트하기: result.extend(new_subsets)\n",
    "\n",
    "result 리스트에 new_subsets 리스트의 모든 요소들을 추가합니다.\n",
    "이 과정을 통해 새로운 원소를 하나씩 추가하면서 파워셋을 확장해갑니다.\n",
    "결과 반환하기: return result\n",
    "\n",
    "모든 원소를 추가한 후의 result 리스트가 파워셋을 나타냅니다.\n",
    "예시 설명:\n",
    "입력 리스트 nums = [1, 2, 3]에 대해 파워셋을 구하는 과정을 살펴봅시다.\n",
    "\n",
    "초기 result: [[]] (빈 집합 하나를 포함)\n",
    "\n",
    "num = 1일 때,\n",
    "\n",
    "new_subsets = [[], [1]]\n",
    "result 업데이트 후: [[], [1]]\n",
    "num = 2일 때,\n",
    "\n",
    "new_subsets = [[], [1], [2], [1, 2]]\n",
    "result 업데이트 후: [[], [1], [2], [1, 2]]\n",
    "num = 3일 때,\n",
    "\n",
    "new_subsets = [[], [1], [2], [1, 2], [3], [1, 3], [2, 3], [1, 2, 3]]\n",
    "result 업데이트 후: [[], [1], [2], [1, 2], [3], [1, 3], [2, 3], [1, 2, 3]]\n",
    "최종적으로 result에는 [[], [1], [2], [1, 2], [3], [1, 3], [2, 3], [1, 2, 3]] 이 모든 부분집합들이 포함되어 있습니다.\n",
    "\n",
    "이렇게 코드는 입력으로 주어진 리스트의 모든 부분집합을 생성하는 과정을 거칩니다."
   ]
  },
  {
   "cell_type": "markdown",
   "metadata": {},
   "source": [
    "# 나중에 공부할 것 키워드 정리\n",
    "\n",
    "Statistical modelling <br>\n",
    "* Multivariate linear regrresion <br>\n",
    "* additive regression <br>\n",
    "* polynomial regrresion <br>\n",
    "<br>\n",
    "parameter inference"
   ]
  },
  {
   "cell_type": "raw",
   "metadata": {},
   "source": [
    "잡다한 거 다 지우고, 핵심만 정리\n",
    "\n",
    "1. 일시 정지 -> 생각 ->; 재생 \n",
    "(내용을 제대로 이해할 수 있는 좋은 방법이지만 진도 나가는 속도가 너무 느리다.)\n",
    "(강의를 보고  빠르게 이해하는 능력 자체를 기를 필요가 있다.)\n",
    "\n",
    "2. 강의 보면서 내가 직접 강의하는 연습하자\n",
    "\n",
    "3. 버려야 할 건 빠르게 버리자 \n",
    "(특히 이런 개론 강의에서는 여러 가지 주제를 다루면 수박 겉핥기로 다루어서 깊이있게 못 다루는 경우가 많은데)\n",
    "(이럴 때는 딱 수박 겉핥기로 대략 저인 개요만 파악하고 BIC , ACI 이런 거 특히..)\n",
    "(나중에 따로 공부하자)\n"
   ]
  },
  {
   "cell_type": "code",
   "execution_count": null,
   "metadata": {},
   "outputs": [],
   "source": []
  }
 ],
 "metadata": {
  "kernelspec": {
   "display_name": "Python 3",
   "language": "python",
   "name": "python3"
  },
  "language_info": {
   "codemirror_mode": {
    "name": "ipython",
    "version": 3
   },
   "file_extension": ".py",
   "mimetype": "text/x-python",
   "name": "python",
   "nbconvert_exporter": "python",
   "pygments_lexer": "ipython3",
   "version": "3.8.3"
  }
 },
 "nbformat": 4,
 "nbformat_minor": 4
}
