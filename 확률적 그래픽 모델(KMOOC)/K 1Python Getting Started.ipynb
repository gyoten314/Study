{
 "cells": [
  {
   "cell_type": "markdown",
   "metadata": {},
   "source": [
    "# 확률적 그래픽 모델\n",
    "   \n",
    "[KMOOCK] https://www.kmooc.kr/"
   ]
  },
  {
   "cell_type": "markdown",
   "metadata": {},
   "source": [
    "#### 1강 1차시"
   ]
  },
  {
   "cell_type": "markdown",
   "metadata": {},
   "source": [
    "**볼드체.**\n",
    "*이탤릭체.*\n",
    "**볼드** *이탤릭*"
   ]
  },
  {
   "cell_type": "markdown",
   "metadata": {},
   "source": [
    "### 방정식 표현의 기초\n",
    "\\begin{align}\n",
    "\\dot{x} & \\sigma(y-x)\\\\\n",
    "\\dot{y} & \\rho(x-y-xz)\\\\\n",
    "\\dot{z} & = -\\beta z+ xy \\\\\n",
    "\\end{align}"
   ]
  },
  {
   "cell_type": "markdown",
   "metadata": {},
   "source": [
    "### 방정식 표현의 고급표현\n",
    "\\begin{equation*}\n",
    "\\left( \\sum_{k=1}^n a_k b_k \\right)^2 \\leq \\left (\\sum_{k-1}^n a_k^2 \\right) \\left( \\sum_{k=1}^n b_k^2 \\right)\n",
    "\\end{equation*}\n",
    "\n",
    "\n",
    " \n",
    " "
   ]
  },
  {
   "cell_type": "code",
   "execution_count": null,
   "metadata": {},
   "outputs": [],
   "source": [
    "import numpy as np\n",
    "X= {'A': 1, 'B': 2}\n",
    "X['C']=3\n",
    "#X shift + Tab 을 누르면 변수 함수 오브젝트 속성이 조회가능!\n",
    "#np.tab키를 누르면 내장된 함수를 볼 수 있음\n",
    "#X? 이런식으로 변수나 object뒤에 ?를 붙이면 속성 정보를 출력함"
   ]
  },
  {
   "cell_type": "markdown",
   "metadata": {},
   "source": [
    "★ 나중에 복습할 것<br>\n",
    "(c) Jupyter Notebook 기타 Hotkeys \n",
    "\n",
    "\n",
    "PPT 15페이지"
   ]
  },
  {
   "cell_type": "markdown",
   "metadata": {},
   "source": [
    "전체적으로 만족스러웠다.\n",
    "tab 키 + shift + tab X? 키는 진짜 신세계... (진작에 이걸 알았더라면..)\n",
    "\n",
    "##### 1강 2차시 시작!"
   ]
  },
  {
   "cell_type": "code",
   "execution_count": null,
   "metadata": {},
   "outputs": [],
   "source": [
    "print(\"a\") ; print(\"b\") #한 줄에 여러개를 실행시키고 싶을때 세미클롬; \n",
    "\n",
    "'''\n",
    "캐리지 리턴이\n",
    "이해가 안간다\n",
    "나중에 복습하자'''\n",
    "\n",
    "char1 = '\\x41'  # '\\x41'은 ASCII 코드에서 'A'를 나타냅니다. \n",
    "print(char1) #  아.. 강의안의 알파벳이 그냥 임의의 숫자구나 문자라서 오류가 났던거였음\n",
    "\n",
    "char2 = '\\uAC00'  # 유니코드 코드 포인트 U+AC00은 한글 '가'를 나타냄\n",
    "print(char2)  # 출력: 가\n",
    " \n",
    "print('He said, \\'Hello!\\'') # 이게 뒤에도 \\ 해야 한다는걸 안 알려줬뇨 강의안만 보고 하면 실수할듯\n",
    "\n",
    "#join은 익숙함 다만 '-' 이런식으로 넣는게 기억이 안 나서 그렇지\n",
    "my_tuple = ('red', 'green', 'blue')\n",
    "result = '-'.join(my_tuple)\n",
    "print(result)  # 출력: red-green-blue\n",
    "#split은 그냥 splitlines 게 있다는것만 기억\n",
    "#partition()은 구분자를 기준으로 나눔 만약에 2개 이상이면 첫번째 기준으로 나눔 주로 변수할당 목적으로 이용\n",
    "#format은 아는거 근데 익숙하지 않아서 가끔 실수한다.\n",
    "#strip도 원래 아는데 쓰기는 어렵네\n",
    "#너무 쉬운건 스킵하자 LIST 이런 부분 지금 대부분 원래 아는거네 \n",
    "#tuple 에 대해서 그냥 변경 불가능한 리스트라고만 생각했는데 문자열을 다르게 다루네 + 받는 인자의 차이도 다른거 같네"
   ]
  },
  {
   "cell_type": "markdown",
   "metadata": {},
   "source": [
    "파이썬 기본문법을 다루는데 대부분이 알고 있는 내용이었다.\n",
    "뭐 튜플을 다루면서 파이썬 리턴값이 튜플로 받아들이는거나 List 단순히 a=c 하면 주소값만 해서 똑같아지거나 이런 개념도 다루는데 이 부분에 대해서 설명하지는 않아서 왜 그런지 궁금한 사람이 생길 것 같다. 그냥 딱 파이썬 어느정도 다룬 사람이 들어보면 좋을만한 복습용 강의 나같은 중급자용 강의인듯 \n",
    "\n",
    "#### 1강 3차시 시작"
   ]
  },
  {
   "cell_type": "code",
   "execution_count": null,
   "metadata": {},
   "outputs": [],
   "source": [
    "#ppprint 예전에는 정렬이 안 됐지만 요즘에는 자동으로 정렬되어서 필요없다고 들었다.\n",
    "#key는 immuable만 가능하다 {잡다한건데 아마 PPT 오률인듯...\n",
    "#여러가지로 아쉬운게 많다. 딕셔러닝에서  key랑 value 매소도를 이용하는거 등등 뭐 강의시간이 짧으니까 \n",
    "#set에서 discard는 remove랑 다르게 오류를 발생시기지 않는다."
   ]
  },
  {
   "cell_type": "code",
   "execution_count": null,
   "metadata": {},
   "outputs": [],
   "source": [
    "#강의노트 오류가 맞는듯,\n",
    "m = [1, 5, 7]\n",
    "\n",
    "def modify(k):\n",
    "    k.append(10)  # 리스트 k에 요소 추가\n",
    "    print(\"k =\", k)\n",
    "\n",
    "modify(m)\n",
    "print(m)\n",
    "#바껴야 하는데 안 바뀐다고 나옴 이거 은근히 오타랑 설명이 부실한 부분 많다. 이런거로 시간낭비 하지말고 이상하다 싶으면 돌려보자"
   ]
  },
  {
   "cell_type": "markdown",
   "metadata": {},
   "source": [
    "\"\"\"def abc(a, b, c):\n",
    "    return b, a, c\n",
    "\n",
    "result = abc(1, 3, b=4)\n",
    "print(result)\"  \n",
    "\n",
    "이건 역시 내 예상대로 뒤에서부터 해야 된다.\n",
    "이런 부분 설명으로 안하는 거 좀 답답하긴한데 뭐 어차피 못 알아먹을 정도는 아니니까\n",
    "여러가지로 뭔가 강의나 설명이 부실하거나 이런것도 많은데 뭐 어차피 알아먹을 정도니까,\n",
    "중간에 시행창오라고 생각하고 앞으로 어떻게 하는게 좋을지 "
   ]
  },
  {
   "cell_type": "markdown",
   "metadata": {},
   "source": [
    "#### 1강 4차시 시작"
   ]
  },
  {
   "cell_type": "markdown",
   "metadata": {},
   "source": [
    "#추상화:사물과 -객체\n",
    "#캐뷸화: 매소드 묶는것 :제어(정적,동적) 은닉,__ prive\n",
    "#상속성 어떻게 상속받을지 종류별로  여기서 다형성 등의 개념등이랑 여러가지 \n",
    "#다항성 애니몰 만들고 짖는거를 개,고양이,따로 다 상속성이랑 연관\n",
    "#동적바인딩 코딩 방식같은데 헷갈림 이것도 다형성 아니면 상속성이랑 연관이 보임\n",
    "#self는 잘모르겠다. 매소드 접근 초기화 등 NEW랑도 관련 있는것같은데 지금은 그냥 감각적으로 익히는게 더 중요할듯 주로 가자기내분변수랑\n",
    "#class Car:\n",
    "#def __init__(self, make, model) 보통은 이런형식으로 적는다. 그리고 자체 변수나 매소드를 다룰때 쓴다 이 정도만 기억하자\n",
    "#super()에 대해서 내가 지금 채웅 난그너 다중상속때 여러번 출력금지등 주로 다중상속에서 문제해결을 휘애서\n",
    "#파이썬은 오버로딩(오버로딩)을 허용하지 않음 함수이름이 같아도 인자가 다르면 다른 함수처럼 쓸 수있는 기능\n",
    "#__를 attribute라고 하는군 다중상속 여기서 다형성 개념이 쓰이는구나\n",
    "\n",
    "\n",
    "\n",
    "#★추상클래스\n",
    "try:\n",
    "    # 실행할 코드 블록\n",
    "    # 예외가 발생할 수 있는 코드\n",
    "except 예외타입 as 변수:\n",
    "    # 예외가 발생했을 때 처리할 코드\n",
    "finally:\n",
    "    # 항상 실행되는 코드 (선택적)\n",
    " \n",
    "try:\n",
    "    f = open('filename.txt', 'r')\n",
    "    # 파일에서 데이터 읽기 등의 작업 수행\n",
    "except FileNotFoundError:\n",
    "    print(\"File not found error occurred.\")\n",
    "except IOError as e:\n",
    "    print(\"IOError occurred:\", str(e))\n",
    "else:\n",
    "    print(\"File read successfully.\")\n",
    "finally:\n",
    "    if 'f' in locals():\n",
    "        f.close()  # 파일 핸들을 닫는 코드"
   ]
  },
  {
   "cell_type": "code",
   "execution_count": null,
   "metadata": {},
   "outputs": [],
   "source": [
    "#unittest -> 이건 코드짜고 try 미리 점검용인거 같고\n",
    "#추상클래스 -> 대충 이건 상속으로만 하는거고 abcdf인가 아무튼 그걸 써야 되는거같고\n",
    "#__main)) -> 이건 뭐 자기가 직접하거나 불러오기너 할때만 뭐 하는것같은데 C언어에서 __main 이랑 뭔가 비슷한 느낌이군"
   ]
  }
 ],
 "metadata": {
  "kernelspec": {
   "display_name": "Python 3",
   "language": "python",
   "name": "python3"
  },
  "language_info": {
   "codemirror_mode": {
    "name": "ipython",
    "version": 3
   },
   "file_extension": ".py",
   "mimetype": "text/x-python",
   "name": "python",
   "nbconvert_exporter": "python",
   "pygments_lexer": "ipython3",
   "version": "3.8.3"
  }
 },
 "nbformat": 4,
 "nbformat_minor": 4
}
