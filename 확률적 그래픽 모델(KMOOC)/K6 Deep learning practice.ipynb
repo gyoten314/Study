{
 "cells": [
  {
   "cell_type": "markdown",
   "metadata": {},
   "source": [
    "# 확률적 그래픽 모델\n",
    "   \n",
    "[KMOOCK] https://www.kmooc.kr/"
   ]
  },
  {
   "cell_type": "markdown",
   "metadata": {},
   "source": [
    "#### 5강 1차시 "
   ]
  },
  {
   "cell_type": "markdown",
   "metadata": {},
   "source": [
    "다른 강의랑 라이브러리 위주의 설명으로 시작한다. 개인적으로 이런보다 라이브러리가 더 쥐약이라서 만족스럽다.\n",
    "losses나 이런거 다루어 주는데 이 강의는 진짜 이미 어느정도 개념있고 복습하는 사람 입장에서 보기 좋은 강의이지\n",
    "기계학습이나 그래픽 모델 입문자에는 너무 빠르고 설명이 빈약하다. 반대로 복습하는 사람에게는 딱 맞음"
   ]
  },
  {
   "cell_type": "code",
   "execution_count": 1,
   "metadata": {},
   "outputs": [
    {
     "name": "stdout",
     "output_type": "stream",
     "text": [
      "Epoch [10/50], Loss: 0.0143\n",
      "Epoch [20/50], Loss: 0.0109\n",
      "Epoch [30/50], Loss: 0.0088\n",
      "Epoch [40/50], Loss: 0.0079\n",
      "Epoch [50/50], Loss: 0.0077\n",
      "Test loss: 0.0068\n"
     ]
    },
    {
     "data": {
      "image/png": "[encoded data removed]",
      "text/plain": [
       "<Figure size 432x288 with 1 Axes>"
      ]
     },
     "metadata": {
      "needs_background": "light"
     },
     "output_type": "display_data"
    }
   ],
   "source": [
    "import torch\n",
    "import torch.nn as nn\n",
    "import torch.optim as optim\n",
    "import numpy as np\n",
    "import matplotlib.pyplot as plt\n",
    "\n",
    "#데이터 만들기\n",
    "x_train = torch.FloatTensor(np.random.random((1000, 1)))  # 입력 데이터\n",
    "eta0 = torch.FloatTensor(np.random.random((1000, 1)) / 5.0) # 잡음 데이터\n",
    "y_train = 0.8 * x_train.pow(2) - 1.2 * x_train + eta0 # 만들었다\n",
    "\n",
    "\n",
    "x_test = torch.FloatTensor(np.random.random((100, 1)))\n",
    "eta1 = torch.FloatTensor(np.random.random((100, 1)) / 5.0)\n",
    "y_test = 0.8 * x_test.pow(2) - 1.2 * x_test + eta1\n",
    "\n",
    "                                              \n",
    "# 모델을 만들자\n",
    "class SimpleNet(nn.Module):\n",
    "    def __init__(self):\n",
    "        super(SimpleNet, self).__init__() #super는 왜 쓴다고 상속 받을 때 똑같은거 계속 안 쓰려고!\n",
    "        self.fc1 = nn.Linear(1, 10) # 입력이 1이고 출력이 10이다.\n",
    "        self.fc2 = nn.Linear(10, 1) #입력이 10이고 출력이 1이다.\n",
    "\n",
    "    def forward(self, x): #순전파 구현\n",
    "        x = torch.relu(self.fc1(x)) # 첫번째 엑티브함수\n",
    "        x = self.fc2(x) # x값을 받고 출력\n",
    "        return x\n",
    "\n",
    "model = SimpleNet() #이제 아까 만든 모델을 써보자!\n",
    "                                              \n",
    "\n",
    "# Define loss function and optimizer\n",
    "criterion = nn.MSELoss() # 손실함수\n",
    "optimizer = optim.Adam(model.parameters(), lr=0.001) # 뭘로 최적화 시킬래!\n",
    "losses = []  # To store the losses for visualization\n",
    "\n",
    "                                              \n",
    "# Train the model\n",
    "epochs = 50 # 50분 하자\n",
    "batch_size = 32 # 32번씩 쪼개서\n",
    "for epoch in range(epochs): # 50번 반복한다.\n",
    "    epoch_losses = []  # To store losses for each epoch\n",
    "    for i in range(0, len(x_train), batch_size):\n",
    "        inputs = x_train[i:i+batch_size]\n",
    "        targets = y_train[i:i+batch_size]\n",
    "\n",
    "        optimizer.zero_grad() # optiimzer 제로 초기화\n",
    "        outputs = model(inputs) #model매소드에 inputs 데이터를 넣고\n",
    "        loss = criterion(outputs, targets) # cirterion 을 이용해서 루스 구해주고\n",
    "        loss.backward() # 백워드 돌리고\n",
    "        optimizer.step() # 이건 언제 정의했더라\n",
    "\n",
    "        epoch_losses.append(loss.item())  # Store current batch loss\n",
    "\n",
    "# Calculate and store average loss for the epoch\n",
    "    epoch_loss_avg = np.mean(epoch_losses)\n",
    "    losses.append(epoch_loss_avg)\n",
    "\n",
    "    # Print progress\n",
    "    if (epoch+1) % 10 == 0: \n",
    "        print(f'Epoch [{epoch+1}/{epochs}], Loss: {loss.item():.4f}') #item은 값을 반환 이거 헷갈린단 말이야\n",
    "\n",
    "# Evaluate the model\n",
    "with torch.no_grad():\n",
    "    model.eval()\n",
    "    outputs = model(x_test)\n",
    "    loss = criterion(outputs, y_test)\n",
    "    print(f'Test loss: {loss.item():.4f}')\n",
    "                                              \n",
    "                                              \n",
    "# Plotting the loss curve\n",
    "plt.plot(losses, label='Training Loss')\n",
    "plt.xlabel('Epochs')\n",
    "plt.ylabel('Loss')\n",
    "plt.title('Training Loss over Epochs')\n",
    "plt.legend()\n",
    "plt.grid(True)\n",
    "plt.show()\n",
    "\n",
    "#솔직히 그래프 그리기 위해서 에폭루스 리스트 만드는 부분은 정확하게 이해가 안 간다."
   ]
  },
  {
   "cell_type": "code",
   "execution_count": 2,
   "metadata": {},
   "outputs": [
    {
     "data": {
      "image/png": "[encoded data removed]",
      "text/plain": [
       "<Figure size 432x288 with 1 Axes>"
      ]
     },
     "metadata": {
      "needs_background": "light"
     },
     "output_type": "display_data"
    }
   ],
   "source": [
    "\n",
    "# Plotting residuals\n",
    "plt.subplot(1, 2, 2)# 1행에 2열의 3번째\n",
    "            \n",
    "with torch.no_grad(): # 안쓰는건 끄자\n",
    "    model.eval()\n",
    "    predictions = model(x_test)\n",
    "    residuals = predictions - y_test\n",
    "\n",
    "plt.scatter(x_test.numpy(), residuals.numpy(), alpha=0.5)\n",
    "plt.axhline(y=0, color='r', linestyle='--')\n",
    "plt.xlabel('x_test')\n",
    "plt.ylabel('Residual')\n",
    "plt.title('Residual Plot')\n",
    "plt.grid(True)\n",
    "\n",
    "plt.tight_layout()\n",
    "plt.show()"
   ]
  },
  {
   "cell_type": "markdown",
   "metadata": {},
   "source": [
    "똑같은 코드를 Numpy로 만들어보자!"
   ]
  },
  {
   "cell_type": "code",
   "execution_count": 3,
   "metadata": {},
   "outputs": [
    {
     "name": "stdout",
     "output_type": "stream",
     "text": [
      "Epoch [10/50], Loss: 0.0515\n",
      "Epoch [20/50], Loss: 0.0293\n",
      "Epoch [30/50], Loss: 0.0174\n",
      "Epoch [40/50], Loss: 0.0100\n",
      "Epoch [50/50], Loss: 0.0063\n",
      "Test loss: 0.0063\n"
     ]
    }
   ],
   "source": [
    "import numpy as np\n",
    "\n",
    "# 데이터 만들기\n",
    "np.random.seed(0)  # 재현성을 위한 시드 설정\n",
    "\n",
    "x_train = np.random.random((1000, 1)).astype(np.float32) #\n",
    "eta0 = np.random.random((1000, 1)) / 5.0\n",
    "y_train = 0.8 * np.power(x_train, 2) - 1.2 * x_train + eta0\n",
    "\n",
    "x_test = np.random.random((100, 1)).astype(np.float32)\n",
    "eta1 = np.random.random((100, 1)) / 5.0\n",
    "y_test = 0.8 * np.power(x_test, 2) - 1.2 * x_test + eta1\n",
    "\n",
    "# 모델 정의 및 초기화\n",
    "np.random.seed(0)  # 재현성을 위한 시드 설정\n",
    "\n",
    "class SimpleNet:\n",
    "    def __init__(self):\n",
    "        self.fc1_weights = np.random.randn(1, 10).astype(np.float32)  # (input_size, hidden_size)\n",
    "        self.fc1_bias = np.zeros((1, 10)).astype(np.float32)\n",
    "        self.fc2_weights = np.random.randn(10, 1).astype(np.float32)  # (hidden_size, output_size)\n",
    "        self.fc2_bias = np.zeros((1, 1)).astype(np.float32)\n",
    "\n",
    "    def forward(self, x):\n",
    "        z1 = np.dot(x, self.fc1_weights) + self.fc1_bias\n",
    "        a1 = np.maximum(0, z1)  # ReLU activation\n",
    "        z2 = np.dot(a1, self.fc2_weights) + self.fc2_bias\n",
    "        return z2\n",
    "\n",
    "# 손실 함수 정의\n",
    "def mean_squared_error(predictions, targets):\n",
    "    return np.mean((predictions - targets) ** 2)\n",
    "\n",
    "# 옵티마이저 정의 (간단히 경사 하강법 사용)\n",
    "def adam_optimizer(params, grads, lr=0.001):\n",
    "    params -= lr * grads\n",
    "    return params\n",
    "\n",
    "# 모델 및 옵티마이저 초기화\n",
    "model = SimpleNet()\n",
    "epochs = 50\n",
    "batch_size = 32\n",
    "\n",
    "# 학습 과정\n",
    "for epoch in range(epochs):\n",
    "    for i in range(0, len(x_train), batch_size):\n",
    "        inputs = x_train[i:i+batch_size]\n",
    "        targets = y_train[i:i+batch_size]\n",
    "\n",
    "        # 순전파\n",
    "        z1 = np.dot(inputs, model.fc1_weights) + model.fc1_bias\n",
    "        a1 = np.maximum(0, z1)  # ReLU activation\n",
    "        z2 = np.dot(a1, model.fc2_weights) + model.fc2_bias  # 첫 번째 선형 층의 출력\n",
    "\n",
    "        # 손실 계산\n",
    "        loss = mean_squared_error(z2, targets)\n",
    "\n",
    "        # 역전파\n",
    "        dloss_dz2 = 2 * (z2 - targets) / len(inputs)  # MSE 손실의 그래디언트\n",
    "        dz2_da1 = model.fc2_weights.T\n",
    "        da1_dz1 = (z1 > 0).astype(np.float32)  # ReLU의 그래디언트\n",
    "        dz1_dw1 = inputs.T\n",
    "\n",
    "        # 가중치와 편향의 그래디언트 계산\n",
    "        dloss_dw2 = np.dot(a1.T, dloss_dz2)  # 두 번째 선형 층의 가중치에 대한 그래디언트\n",
    "        dloss_db2 = np.sum(dloss_dz2, axis=0, keepdims=True)  # 두 번째 선형 층의 편향에 대한 그래디언트\n",
    "        dloss_da1 = np.dot(dloss_dz2, dz2_da1)  # 첫 번째 선형 층의 출력에 대한 그래디언트\n",
    "        dloss_dz1 = dloss_da1 * da1_dz1  # 첫 번째 ReLU 층의 입력에 대한 그래디언트\n",
    "        dloss_dw1 = np.dot(inputs.T, dloss_dz1)  # 첫 번째 선형 층의 가중치에 대한 그래디언트\n",
    "        dloss_db1 = np.sum(dloss_dz1, axis=0, keepdims=True)  # 첫 번째 선형 층의 편향에 대한 그래디언트\n",
    "\n",
    "        # 옵티마이저로 가중치와 편향 업데이트\n",
    "        model.fc2_weights = adam_optimizer(model.fc2_weights, dloss_dw2)\n",
    "        model.fc2_bias = adam_optimizer(model.fc2_bias, dloss_db2)\n",
    "        model.fc1_weights = adam_optimizer(model.fc1_weights, dloss_dw1)\n",
    "        model.fc1_bias = adam_optimizer(model.fc1_bias, dloss_db1)\n",
    "# 매 에폭마다 손실 출력\n",
    "    if (epoch+1) % 10 == 0:\n",
    "        print(f'Epoch [{epoch+1}/{epochs}], Loss: {loss:.4f}')\n",
    "\n",
    "# 모델 평가\n",
    "outputs = model.forward(x_test)\n",
    "test_loss = mean_squared_error(outputs, y_test)\n",
    "print(f'Test loss: {test_loss:.4f}')\n",
    "\n",
    "#솔직히 내가 직접 구현하라고 하면 역전파 부분에서 고통 받을 것 같다."
   ]
  },
  {
   "cell_type": "markdown",
   "metadata": {},
   "source": [
    "# one-hot 인코딩 구현\n",
    "\n",
    "공부방식은 그냥 내가 필요하다고 생각하는거 직접 구현해보고 연습하자"
   ]
  },
  {
   "cell_type": "code",
   "execution_count": 4,
   "metadata": {},
   "outputs": [
    {
     "name": "stdout",
     "output_type": "stream",
     "text": [
      "['bird' 'cat' 'dog']\n",
      "0\n",
      "cat\n",
      "1\n",
      "dog\n",
      "2\n",
      "dog\n",
      "3\n",
      "cat\n",
      "4\n",
      "bird\n",
      "Original labels: ['cat', 'dog', 'dog', 'cat', 'bird']\n",
      "One-hot encoded labels:\n",
      " [[0. 1. 0.]\n",
      " [0. 0. 1.]\n",
      " [0. 0. 1.]\n",
      " [0. 1. 0.]\n",
      " [1. 0. 0.]]\n"
     ]
    }
   ],
   "source": [
    "import numpy as np\n",
    "\n",
    "def one_hot_encode(labels):\n",
    "    # Get the unique labels and sort them\n",
    "    unique_labels = np.unique(labels)\n",
    "    unique_labels.sort()\n",
    "    print(unique_labels)\n",
    "    \n",
    "    # Initialize an empty matrix with rows equal to number of labels and columns equal to number of unique labels\n",
    "    encoded = np.zeros((len(labels), len(unique_labels)))\n",
    "    \n",
    "    # Fill the matrix with 1s where the column index corresponds to the label index\n",
    "    for i, label in enumerate(labels):\n",
    "        encoded[i, np.where(unique_labels == label)] = 1 # 내가 곧바로 떠올리기 힘들었던 부분 np.where \n",
    "        #그리고 이렇게 리스트 만드는거 내가 못하는 부분 이거\n",
    "        print(i)\n",
    "        print(label)\n",
    "    \n",
    "    return encoded\n",
    "\n",
    "# Example usage:\n",
    "labels = ['cat', 'dog', 'dog', 'cat', 'bird']\n",
    "encoded_labels = one_hot_encode(labels)\n",
    "print(\"Original labels:\", labels)\n",
    "print(\"One-hot encoded labels:\\n\", encoded_labels)\n",
    "\n",
    "# 내가 maap랑 리스트랑 같이 다른 함수 사용하는 부분에 약하네.."
   ]
  },
  {
   "cell_type": "markdown",
   "metadata": {},
   "source": [
    "이 강의는 진짜 딥러닝 한 번 공부해본 사람이 더 깊게 공부하기전에 복습용으로 들어야 하는 강의임 "
   ]
  }
 ],
 "metadata": {
  "kernelspec": {
   "display_name": "Python 3",
   "language": "python",
   "name": "python3"
  },
  "language_info": {
   "codemirror_mode": {
    "name": "ipython",
    "version": 3
   },
   "file_extension": ".py",
   "mimetype": "text/x-python",
   "name": "python",
   "nbconvert_exporter": "python",
   "pygments_lexer": "ipython3",
   "version": "3.8.3"
  }
 },
 "nbformat": 4,
 "nbformat_minor": 4
}
