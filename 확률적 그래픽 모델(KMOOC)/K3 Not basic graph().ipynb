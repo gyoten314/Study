{
 "cells": [
  {
   "cell_type": "markdown",
   "metadata": {},
   "source": [
    "# 확률적 그래픽 모델\n",
    "   \n",
    "[KMOOCK] https://www.kmooc.kr/"
   ]
  },
  {
   "cell_type": "markdown",
   "metadata": {},
   "source": [
    "#### 3강 1차시"
   ]
  },
  {
   "cell_type": "markdown",
   "metadata": {},
   "source": [
    "### 그래프란 무엇인가?\n",
    "\n",
    "그래프: : 정점(Vertex)과 그 정점들을 연결하는 간선(Edge)으로 구성된 추상적인 자료 구조 (간선의 방향성 유무에 따라  무방향 그래프(Undirected Graph)와 방향 그래프(Directed Graph)로 나눌 수 있다. G=(V,E) ,\n",
    "\n",
    "방향성은 Link와 Arc를 통해 표현 가능(방향성은 선후행 관계 표현 From X to Y  , IF X THEN Y ,, EVENT X REASON Y , CAUSE X Effect Y)\n",
    "\n",
    "#### 확률적 그래픽 모델이란?\n",
    "Link 가 상수적인 값을 가지고 있으면 결정적모델, 불확실한 변수를 가지고 있으면 확률적모델 + Vertex가 불확실한 값을 가지고 있을수도 있다.\n",
    "\n",
    "#### 확률적 그래픅 모델을 다루어보자\n",
    "노드X(X가 발생할 확률) $Pr$(x) , 링크(조건부 확률) $Pr$(Y|X)  , 노드Y(X-Y Path 발생할 확률) $Pr$(X,Y) = $Pr$(Y|X) * $Pr$(X)\n",
    "\n",
    "Forest: tree가 여러 개 묶여있는  것 f\n",
    "Spanning Tree: 연결된 링크의 값을 최소로 만드는 트리\n",
    "Steiner Tree: Serve Set을 구해놓고 그 Serve set을 연결하는 트리\n",
    "\n",
    "\n",
    "Complete Graph (완전 그래프)\n",
    "Complete Graph는 그래프 이론에서 모든 노드가 서로 연결된 그래프.\n",
    "\n",
    "Bipartite Graph (이분 그래프)\n",
    "Bipartite Graph는 두 개의 집합으로 그래프의 모든 노드를 나눌 수 있는 그래프 (이게 좀 이해가 안 되는군 대표적인건 딥러닝 폴컨넥티)\n",
    "\n",
    "Affiliation Graph\n",
    "Affiliation Graph\"는 주로 관계를 나타내는 그래프\n",
    " \n",
    " #### 확률적 그래픽 모델의 종류\n",
    "Gaussian Graphical Model분포들이 전부 가우시안 분포를 가지고 있다.\n",
    "Mixed Graphical Model (각 노드가 각기 다른 확률 분포를 가지고 있다\n",
    "\n",
    " Directed Graphs (뭐 자세하게 필기하고 이런건 포기하고 대충 개념에 대해서 찾아보고 이해하자 깊게 들어가면 시간을 너무 낭비함)\n",
    " • Bayesian Networks\n",
    " • Markov Chains\n",
    " • Influence Diagram."
   ]
  },
  {
   "cell_type": "markdown",
   "metadata": {},
   "source": [
    "============================================================================================================"
   ]
  },
  {
   "cell_type": "markdown",
   "metadata": {},
   "source": [
    "#### 다익스트라이 알고리즘 (나중에 공부하자)\n",
    "\n",
    "다익스트라(Dijkstra) 알고리즘은 그래프에서 하나의 시작 노드로부터 모든 다른 노드까지의 최단 경로를 찾는 알고리즘. \n",
    "특히, 모든 간선의 가중치가 양수일 때에 사용할 수 있는 효율적인 알고리즘으로 알려져 있습니다.\n",
    "\n",
    "다익스트라 알고리즘의 동작 방식:\n",
    "초기화: 시작 노드에서 다른 모든 노드까지의 최단 거리를 무한대(infinity)로 초기화하고, 시작 노드 자신의 최단 거리는 0으로 설정합니다.\n",
    "\n",
    "우선순위 큐 사용: 우선순위 큐를 사용하여 현재까지 발견한 최단 거리가 가장 작은 노드를 선택합니다. 초기에는 시작 노드를 우선순위 큐에 넣습니다.\n",
    "\n",
    "노드 확장: 우선순위 큐에서 가장 짧은 거리를 가진 노드를 선택하고, 이 노드와 인접한 노드들의 최단 거리를 업데이트합니다. 인접 노드의 최단 거리가 업데이트되면 우선순위 큐에 추가합니다.\n",
    "\n",
    "반복: 우선순위 큐가 빌 때까지 위 과정을 반복합니다. 이 과정에서 최종적으로 모든 노드까지의 최단 거리가 계산됩니다.\n",
    "\n",
    "코드를 봐도 대충은 알겠는데 \n",
    "자세히는 모르겠다.\n",
    "여기에 시간을 너무 쏟아붓지 말고 지금은 이런게 있고 아 대충 이런거구나 하고만 이해하자"
   ]
  },
  {
   "cell_type": "markdown",
   "metadata": {},
   "source": [
    "============================================================================================================ "
   ]
  },
  {
   "cell_type": "markdown",
   "metadata": {},
   "source": [
    "확실히 훨씬 개선되었다.\n",
    "지금은 사소한 거 하나하나 깊게 파악할 시간이 없다.\n",
    "우선은 다양한 주제를 넓게 공부하자\n",
    "(애초에 강의 목적도 그런 목적으로 만들어진 강의다.)\n",
    "\n",
    "1강 2강때는 실패했다는 느낌이 들었는데 지금은 나쁘지 않음,\n",
    "스스로 깊게 공부하는건 우선 나중에! 지금은 강의에만 충실하자"
   ]
  },
  {
   "cell_type": "markdown",
   "metadata": {},
   "source": [
    "####  <font color=\"green\"> 3강 2차시"
   ]
  },
  {
   "cell_type": "markdown",
   "metadata": {},
   "source": [
    "##### Bayesian Belief Networks\n",
    "• 적은수의매개변수로모든확률변수에대한전체결합분포(Joint Distribution)를보다간결하게표현<br>\n",
    "• 확률변수간의조건부확률조건및개별독립성(Marginal Independency)를적절히활용할수있음\n",
    "\n",
    "$ P(A_1 \\cap A_2 \\cap \\ldots \\cap A_n) = P(A_n \\mid A_1 \\cap A_2 \\cap \\ldots \\cap A_{n-1}) \\cdot P(A_{n-1} \\mid A_1 \\cap A_2 \\cap \\ldots \\cap A_{n-2}) \\cdot \\ldots \\cdot P(A_2 \\mid A_1) \\cdot P(A_1) $\n",
    "\n",
    "\n",
    "\n",
    "대표적인 공식 간단하게 증명해보자\n",
    "1.  $ P(A, B) = P(A) \\cdot P(B) $ <br>\n",
    "$ P(A,B) = P(A \\cap B) $ 독립적인 사건에서 $ P(A \\cap B) = P(A) \\cdot P(B) $ 이므로\n",
    "\n",
    "<br>\n",
    "2.(추가 $ P(A \\mid B \\cap C) = P(A \\mid C) $ <br>\n",
    "사용되는 성질<br>\n",
    "1.$ P(A \\cap B) = P(A) \\cdot P(B) $ <br>\n",
    "2.$ P(A \\mid B \\cap C) = \\frac{P(A \\cap (B \\cap C))}{P(B \\cap C)} $ <br>\n",
    "증명 <br>\n",
    "3.$ P(A \\cap (B \\cap C)) = P(A) \\cdot P(B \\cap C) $ 1사용<br>\n",
    "4.$ P(A \\mid B \\cap C) = P(A) $ 3의 결과를 4에 대입하면 \n",
    " "
   ]
  },
  {
   "cell_type": "markdown",
   "metadata": {},
   "source": [
    "#### 이어서.. (지전부해서 새로팜  <br>\n",
    "2.$ P(A, B \\mid C) = P(A \\mid C) \\cdot P(B \\mid C) $ <br>\n",
    "(여기에 40분 넘게 쏟아부었는데 그냥 독립인 조건 쓰면 간단한거였음 \n",
    "어이가 없다. ㅋㅋㅋ)\n",
    "\n",
    "3.$ P(A \\mid C, B) = P(A \\mid C) \\$\n",
    "\n",
    "\n",
    "실패의 원인 \n",
    " 독립성질을 활용 안하고 삽질함 ㅋㅋㅋ 진짜 독립이 왜 사기인지 느꼈음"
   ]
  },
  {
   "cell_type": "markdown",
   "metadata": {},
   "source": [
    "============================================================================================================ \n",
    "30분 이상 고민하지말자 30분이상 해도 답이 오는건 방향을 잘 못 잡았거나 개념이 부족해서다.\n",
    "대체 시간을 얼마나 날린거야\n",
    "딱 50분 조금넘게 날렸는데 원래 방향성 생각하면 10분 정도 걸릴거고 뭐 40분 정도 날린거니까 그렇게 크지는.."
   ]
  },
  {
   "cell_type": "code",
   "execution_count": 1,
   "metadata": {},
   "outputs": [
    {
     "data": {
      "image/png": "[encoded data removed]",
      "text/plain": [
       "<Figure size 432x288 with 1 Axes>"
      ]
     },
     "metadata": {},
     "output_type": "display_data"
    }
   ],
   "source": [
    "import networkx as nx\n",
    "import matplotlib.pyplot as plt\n",
    "\n",
    "# 그래프 생성\n",
    "G = nx.DiGraph()\n",
    "\n",
    "# 노드 추가\n",
    "nodes = ['A', 'B', 'E', 'J', 'M']\n",
    "G.add_nodes_from(nodes)\n",
    "\n",
    "# 간선 추가\n",
    "edges = [('B', 'A'), ('E', 'A'), ('A', 'J'), ('A', 'M')]\n",
    "G.add_edges_from(edges)\n",
    "\n",
    "# 노드 위치 수동으로 설정\n",
    "pos = {\n",
    "    'B': (-1, 1),   # B는 왼쪽 위\n",
    "    'E': (1, 1),    # E는 오른쪽 위\n",
    "    'A': (0, 0),    # A는 중앙\n",
    "    'J': (-1, -1),  # J는 왼쪽 아래\n",
    "    'M': (1, -1)    # M은 오른쪽 아래\n",
    "}\n",
    "\n",
    "# 그래프 그리기\n",
    "nx.draw_networkx_nodes(G, pos, node_size=500, node_color='skyblue')\n",
    "nx.draw_networkx_edges(G, pos, edgelist=edges, width=2, alpha=0.5, edge_color='gray')\n",
    "nx.draw_networkx_labels(G, pos, font_size=20, font_family='sans-serif')\n",
    "\n",
    "# 그래프 출력\n",
    "plt.title('Directed Acyclic Graph (DAG) with Custom Layout')\n",
    "plt.axis('off')  # 축 없애기\n",
    "plt.show()\n",
    "\n",
    "#와 진짜 신기하네 \n",
    "#B와 E는 소스 J와 M은 도착점 A는 경유점"
   ]
  },
  {
   "cell_type": "markdown",
   "metadata": {},
   "source": [
    "##### Bayesian Belief Networks\n",
    "\n",
    "• 노드(Node)들은확률변수를의미함 (잠시 보류 <br>\n",
    "• 각각의연결(Link)들은확률변수간의종속성을표현함 ( <br>\n",
    "• 서로연결되지않으면상호간은서도독립임을표현함 () <br>\n",
    "\n",
    "###### 매개벼수들\n",
    "배열:노드간의 관계와 그에 따른 매개변수 설정을 의미한다.<br>\n",
    "BBN에서 각 노드(Node)의 \"variable-parent configuration\"이란 매개변수 설정을 의미하는 것이죠.<br>\n",
    "BBN에서의 \"배열\"이라는 용어는 각 노드의 변수와 그 부모 노드들 간의 관계를 구성하는 매개변수 설정을 말한다<br>\n",
    "예를 들어, 노드 Xi가 부모 노드들 P1, P2, P3와 어떤 관계를 가지는지를 배열이라는 형태로 나타낸다고 이해하시면 됩니다.\n",
    "\n",
    "<br>\n",
    "• 모든확률변수-모체구성(variable-parent configuration)에 대한지역적조건부(local-conditional) 확률 분포 <br>\n",
    "• pa(Xi) : variable-parent configuration (파라메타 X, 노드에 대한 파라미터를 배열로 파라메타 배열별로 파라메타 결정 pa(X) <br>\n",
    "• G = (S, Θ𝑆), where S = (N, L) and Θ𝑆 = S 안에서의 매개변수 (노드간의 연결된 그래프) <br>\n",
    "• 지역적조건부확률, P{Xi | pa(Xi) } <br>"
   ]
  },
  {
   "cell_type": "markdown",
   "metadata": {},
   "source": [
    "###### BBN에서의전체결합분포(Fully Joint Distribution in BBNs)\n",
    "• pa(Xi)는 Xi와 종속관계에있는모든변수들의그래프와그에따른매개변수를의미함 <br>\n",
    "• 조건부확률𝑃 𝑋𝑖 𝑝𝑎(𝑋𝑖) 은 전체그래프의연결관계에따라연산되어짐\n",
    "\n",
    "###### Bayesian Belief Networks (BBN)에서의 결합 확률 분포\n",
    "\n",
    "$ P(X_1, X_2, \\ldots, X_n) = \\prod_{i=1}^{n} P(X_i \\mid pa(X_i)) $\n",
    "<br>\n",
    " 확률 변수 $P(X_1, X_2, \\ldots, X_n)$ = $ X_1, X_2, \\ldots, X_n $ 의 결합 확률 분포를 나타냅니다. <br>\n",
    " $\\prod_{i=1}^{n} P(X_i \\mid \\text{pa}(X_i)$  $각 확률 변수 \\( X_i \\) 의 조건부 확률 분포 \\( P(X_i \\mid \\text{pa}(X_i)) \\)를 곱한 것입니다.$ <br>\n",
    " <br>\n",
    " \n",
    " $ \\text{pa}(X_i) \\): 확률 변수 \\( X_i \\) 의 부모(parents) 노드들을 나타냅니다. BBN에서 각 노드는 그 부모 노드들에 대한 조건부 확률 분포를 가지며, 이를 통해 전체 결합 확률 분포를 구성합니다.$<br>\n",
    " \n",
    " $ P(B=\\text{T}, E=\\text{T}, A=\\text{T}, J=\\text{T}, M=\\text{F}) $ <br>\n",
    "=$ P(B=\\text{T}) P(E=\\text{T}) P(A=\\text{T} \\mid B=\\text{T}, E=\\text{T}) P(J=\\text{T} \\mid A=\\text{T}) P(M=\\text{F} \\mid A=\\text{T}) = (0.01)(0.02)(0.95)(0.90)(0.01) = 1.71 \\times 10^{-5} $\n",
    "\n",
    "\n",
    "\n",
    "\n"
   ]
  },
  {
   "cell_type": "markdown",
   "metadata": {},
   "source": [
    "##### 근데 계싼이 너무 어렵잖아? 어떻게 쉽게하지\n",
    "d-separation: 두 노드 X와 Y가 d-separated라는 것은, 주어진 조건 세트 Z에서 X와 Y 사이의 모든 경로가 차단되어 X와 Y가 조건부 독립적임을 의미합니다.\n",
    "\n",
    "<br>\n",
    "$If \\( P(X,Y \\mid Z) = P(X \\mid Z)P(Y \\mid Z) \\), then \\( X \\) and \\( Y \\) are d-separated by \\( Z \\).$\n",
    "<br>\n",
    "\n",
    "#####   Path Blocking\n",
    "변수하나를제거하면두개이상의군집들의연결이끊어지면 <br>\n",
    "해당그래프는해당변수에의해Path Blocking 되었다고부름 <br>\n",
    "변수B, E, J, M은변수A에의해Path Blocking 됨<br>\n",
    "\n",
    "###### 그래서 이걸 왜 하는데?\n",
    "실제 그래프의 연결관계를 고려하면 계싼량이 줄어듬"
   ]
  },
  {
   "cell_type": "markdown",
   "metadata": {},
   "source": [
    "Computational cost 계산파트 정확하게 이해가 안 되네\n",
    "그냥 감만 잡아놓자\n",
    "3차시 시가중인데\n",
    " 디테일은 중요하지만 너무 집착하면 안 된다.\n",
    " 지금 너무 쫄아있다. 심호흡하고 마음 가다듬고 다시해보자 \n",
    " 우선 강의 내용 충실히 이해하는데 집중하자"
   ]
  },
  {
   "cell_type": "markdown",
   "metadata": {},
   "source": [
    "####  <font color=\"brown\"> 3강 3차시"
   ]
  },
  {
   "cell_type": "markdown",
   "metadata": {},
   "source": [
    " 마코프체인\n",
    " 대충 뭐 이런게 있구나 대충 이해하면 너무 쉽고\n",
    " 제대로 이해하려고 하면 너무 어려운 것 같다.\n",
    " \n",
    " \n",
    " Markov Chain의 특성정의–1) 순차적Discrete Event,  2Time-memoryless, 3) Countable State Space\n",
    " \n",
    " \n",
    " Transition Probability Matrix & Stochastic Matrix\n",
    " \n",
    " \n",
    " Homogeneous Markov Chains : P(𝑚,𝑚 +𝑛) =𝑃𝑛\n",
    " \n",
    " \n",
    " Persistent-null, Persistent-non-null, Transient\n",
    " \n",
    " \n",
    " Irreducible closed set들과 Decomposition 정리\n",
    " \n",
    " \n",
    " Inference Diagram 분석 기법과 인과관계표현방법이해\n",
    "\n",
    "\n",
    "##### 나중에 용어 복습이랑 개념정리에 집중하자\n",
    "\n",
    " Markov Chain특성의이해\n",
    " Transition Probability Matrix\n",
    " Persistent vs. Transient\n",
    " Homogenous/Irreducible/Closed\n",
    " Inference Graph & Decision Tree\n",
    "\n"
   ]
  },
  {
   "cell_type": "markdown",
   "metadata": {},
   "source": [
    "####  <font color=\"brown\"> 3강 4차시"
   ]
  },
  {
   "cell_type": "markdown",
   "metadata": {},
   "source": [
    "##### 용어정리\n",
    "• Clique(클릭): 모든가능한변(edge)이존재하는꼭짓점들(nodes)의부분집합\n",
    "• k-clique: 임의의 두노드사이를여행할때최대거리가k를넘지않는그래프\n",
    "• diameter (지름): 한점에서다른점까지이르는거리중가장먼거리: d(n1, n2)\n",
    "• n-club: diameter가 n 이하인 노드들의집합체(n-club⇒ n-clique)\n",
    "\n",
    " • k-core: 모든노드들이최소한k개의내부이웃을가지고있는부분그래프의최대치\n",
    "• k-clan: k-clique 중 노드간 최단거리가 k보다 작거나같은것들만모은그래프\n",
    "\n",
    "3강 4차시 진짜 어렵다.\n",
    "퀴즈는 난이도 에비해서 쉽게 나와서 항상 무난하게 햇는데\n",
    "이건 그 k랑 n시리즈도 못 풀고...\n",
    "\n",
    "강사님도 여기서는 그냥 소개해주는거고 이해하기 어렵다고 했는데\n",
    "쓸데업싱 여기에 시간을 너무 매몰했음 "
   ]
  },
  {
   "cell_type": "markdown",
   "metadata": {},
   "source": [
    "용어이해: Clique, Club, Clan, ore 等\n",
    "    \n",
    "    \n",
    "Clique 그래프를 활용한Social Community Evolution 응용\n",
    "\n",
    "\n",
    "Factor Graph의 정의및표현하는기법숙지\n",
    "\n",
    "\n",
    "Gibbs 확률분포및Clique Factorization(요인화) 개념 숙지\n",
    "\n",
    "\n",
    "Markov Logic Networks의 개념 이해\n",
    "\n",
    "\n",
    "Markov Logic Networks에서 Marginal Inference 구하기\n",
    "\n",
    "### key point    \n",
    "\n",
    " ✓ Clique, Club, Clan, Core <br>\n",
    " ✓ Community Evolution  <br>\n",
    " ✓ GibbsProbability Distribution  <br>\n",
    " ✓ CliqueFactorization  <br>\n",
    " ✓ Markov Logic Networks <br>\n",
    " \n",
    "용어이해에서 막힌게크다.\n",
    "\n",
    "\n"
   ]
  },
  {
   "cell_type": "code",
   "execution_count": null,
   "metadata": {},
   "outputs": [],
   "source": []
  }
 ],
 "metadata": {
  "kernelspec": {
   "display_name": "Python 3",
   "language": "python",
   "name": "python3"
  },
  "language_info": {
   "codemirror_mode": {
    "name": "ipython",
    "version": 3
   },
   "file_extension": ".py",
   "mimetype": "text/x-python",
   "name": "python",
   "nbconvert_exporter": "python",
   "pygments_lexer": "ipython3",
   "version": "3.8.3"
  }
 },
 "nbformat": 4,
 "nbformat_minor": 4
}
