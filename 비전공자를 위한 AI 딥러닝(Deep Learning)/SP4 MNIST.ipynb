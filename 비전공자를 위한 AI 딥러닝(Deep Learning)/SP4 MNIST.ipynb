{
 "cells": [
  {
   "cell_type": "markdown",
   "metadata": {},
   "source": [
    "# 비전공자를 위한 AI 딥러닝(Deep Learning)\n"
   ]
  },
  {
   "cell_type": "markdown",
   "metadata": {},
   "source": [
    "# MNIST 데이터 연습용\n",
    "### 이건 처음부터 끝까지 내가 안 하고 gpt한테 맡겼다. 이정도로 잘하는게 놀라움 걍 내가 하는것보다 처음부터 gpt가 하는게 나은..."
   ]
  },
  {
   "cell_type": "code",
   "execution_count": 1,
   "metadata": {},
   "outputs": [],
   "source": [
    "import torch\n",
    "import torch.nn as nn\n",
    "import torch.optim as optim\n",
    "import torchvision.datasets as datasets\n",
    "import torchvision.transforms as transforms\n",
    "import matplotlib.pyplot as plt\n",
    "import numpy as np"
   ]
  },
  {
   "cell_type": "code",
   "execution_count": 2,
   "metadata": {},
   "outputs": [],
   "source": [
    "# GPU 사용 가능 여부 확인\n",
    "device = torch.device('cuda' if torch.cuda.is_available() else 'cpu')\n",
    "\n",
    "# 데이터셋 불러오기\n",
    "train_dataset = datasets.MNIST(root='./data', train=True, transform=transforms.ToTensor(), download=True)\n",
    "test_dataset = datasets.MNIST(root='./data', train=False, transform=transforms.ToTensor())"
   ]
  },
  {
   "cell_type": "code",
   "execution_count": 3,
   "metadata": {},
   "outputs": [],
   "source": [
    "# 데이터 로더 정의\n",
    "batch_size = 64\n",
    "train_loader = torch.utils.data.DataLoader(dataset=train_dataset, batch_size=batch_size, shuffle=True)\n",
    "test_loader = torch.utils.data.DataLoader(dataset=test_dataset, batch_size=batch_size, shuffle=False)\n"
   ]
  },
  {
   "cell_type": "code",
   "execution_count": 4,
   "metadata": {},
   "outputs": [],
   "source": [
    "#  mshow 함수 정의\n",
    "def imshow(img):\n",
    "    npimg = img.squeeze().numpy()  # 채널 차원을 제거하여 (28, 28) 형태로 변환\n",
    "    plt.imshow(npimg, cmap='gray')  # 흑백 이미지로 출력\n",
    "    plt.axis('off')\n",
    "    plt.show()"
   ]
  },
  {
   "cell_type": "code",
   "execution_count": 5,
   "metadata": {},
   "outputs": [],
   "source": [
    "# MLP 모델 정의\n",
    "class MLP(nn.Module):\n",
    "    def __init__(self, input_size, hidden_size, num_classes):\n",
    "        super(MLP, self).__init__() # super가 붙는건 상위 클래스 호출하기 위해서 첫번째 인자는 현재 클래스 nn.module을 상속\n",
    "        self.fc1 = nn.Linear(input_size, hidden_size)\n",
    "        self.relu = nn.ReLU()\n",
    "        self.fc2 = nn.Linear(hidden_size, num_classes)\n",
    "\n",
    "    def forward(self, x): #이 부분이 약간 이해가 안 가네 그 파이토치로 구현되어있어서 어떻게 돌아갈지 헷갈리는구나\n",
    "        x = x.view(x.size(0), -1)  # Flatten the input image\n",
    "        x = self.fc1(x)\n",
    "        x = self.relu(x)\n",
    "        x = self.fc2(x)\n",
    "        return x\n"
   ]
  },
  {
   "cell_type": "code",
   "execution_count": 6,
   "metadata": {},
   "outputs": [],
   "source": [
    "# 하이퍼파라미터 설정\n",
    "input_size = 784  # 28x28  고정된 값\n",
    "hidden_size = 300\n",
    "num_classes = 10 # 고정된 값\n",
    "learning_rate = 0.001\n",
    "num_epochs = 10\n"
   ]
  },
  {
   "cell_type": "code",
   "execution_count": 7,
   "metadata": {},
   "outputs": [],
   "source": [
    "#모델 , 손실함수 , 최적화 (진짜 파이토치 쓰면 편하구나 이걸 직접 구현하는거 언젠가 연습은 해야 하는데)\n",
    "model = MLP(input_size, hidden_size, num_classes).to(device)\n",
    "criterion = nn.CrossEntropyLoss()\n",
    "optimizer = optim.Adam(model.parameters(), lr=learning_rate)"
   ]
  },
  {
   "cell_type": "code",
   "execution_count": 8,
   "metadata": {},
   "outputs": [
    {
     "name": "stdout",
     "output_type": "stream",
     "text": [
      "Epoch [1/10], Step [100/938], Loss: 0.2342\n",
      "Epoch [1/10], Step [200/938], Loss: 0.2081\n",
      "Epoch [1/10], Step [300/938], Loss: 0.3961\n",
      "Epoch [1/10], Step [400/938], Loss: 0.1857\n",
      "Epoch [1/10], Step [500/938], Loss: 0.5151\n",
      "Epoch [1/10], Step [600/938], Loss: 0.2643\n",
      "Epoch [1/10], Step [700/938], Loss: 0.1618\n",
      "Epoch [1/10], Step [800/938], Loss: 0.1000\n",
      "Epoch [1/10], Step [900/938], Loss: 0.0623\n",
      "Epoch [2/10], Step [100/938], Loss: 0.1068\n",
      "Epoch [2/10], Step [200/938], Loss: 0.1284\n",
      "Epoch [2/10], Step [300/938], Loss: 0.1074\n",
      "Epoch [2/10], Step [400/938], Loss: 0.0746\n",
      "Epoch [2/10], Step [500/938], Loss: 0.1058\n",
      "Epoch [2/10], Step [600/938], Loss: 0.0908\n",
      "Epoch [2/10], Step [700/938], Loss: 0.0430\n",
      "Epoch [2/10], Step [800/938], Loss: 0.0522\n",
      "Epoch [2/10], Step [900/938], Loss: 0.0464\n",
      "Epoch [3/10], Step [100/938], Loss: 0.1437\n",
      "Epoch [3/10], Step [200/938], Loss: 0.0784\n",
      "Epoch [3/10], Step [300/938], Loss: 0.0973\n",
      "Epoch [3/10], Step [400/938], Loss: 0.0588\n",
      "Epoch [3/10], Step [500/938], Loss: 0.0864\n",
      "Epoch [3/10], Step [600/938], Loss: 0.0484\n",
      "Epoch [3/10], Step [700/938], Loss: 0.0657\n",
      "Epoch [3/10], Step [800/938], Loss: 0.0724\n",
      "Epoch [3/10], Step [900/938], Loss: 0.0646\n",
      "Epoch [4/10], Step [100/938], Loss: 0.1149\n",
      "Epoch [4/10], Step [200/938], Loss: 0.0616\n",
      "Epoch [4/10], Step [300/938], Loss: 0.1114\n",
      "Epoch [4/10], Step [400/938], Loss: 0.0185\n",
      "Epoch [4/10], Step [500/938], Loss: 0.0116\n",
      "Epoch [4/10], Step [600/938], Loss: 0.0326\n",
      "Epoch [4/10], Step [700/938], Loss: 0.0241\n",
      "Epoch [4/10], Step [800/938], Loss: 0.0591\n",
      "Epoch [4/10], Step [900/938], Loss: 0.0320\n",
      "Epoch [5/10], Step [100/938], Loss: 0.1126\n",
      "Epoch [5/10], Step [200/938], Loss: 0.0105\n",
      "Epoch [5/10], Step [300/938], Loss: 0.0282\n",
      "Epoch [5/10], Step [400/938], Loss: 0.0769\n",
      "Epoch [5/10], Step [500/938], Loss: 0.0096\n",
      "Epoch [5/10], Step [600/938], Loss: 0.0504\n",
      "Epoch [5/10], Step [700/938], Loss: 0.0308\n",
      "Epoch [5/10], Step [800/938], Loss: 0.0492\n",
      "Epoch [5/10], Step [900/938], Loss: 0.0545\n",
      "Epoch [6/10], Step [100/938], Loss: 0.0952\n",
      "Epoch [6/10], Step [200/938], Loss: 0.0285\n",
      "Epoch [6/10], Step [300/938], Loss: 0.0588\n",
      "Epoch [6/10], Step [400/938], Loss: 0.0044\n",
      "Epoch [6/10], Step [500/938], Loss: 0.0822\n",
      "Epoch [6/10], Step [600/938], Loss: 0.0145\n",
      "Epoch [6/10], Step [700/938], Loss: 0.0572\n",
      "Epoch [6/10], Step [800/938], Loss: 0.0078\n",
      "Epoch [6/10], Step [900/938], Loss: 0.0244\n",
      "Epoch [7/10], Step [100/938], Loss: 0.0201\n",
      "Epoch [7/10], Step [200/938], Loss: 0.0263\n",
      "Epoch [7/10], Step [300/938], Loss: 0.0082\n",
      "Epoch [7/10], Step [400/938], Loss: 0.0302\n",
      "Epoch [7/10], Step [500/938], Loss: 0.0101\n",
      "Epoch [7/10], Step [600/938], Loss: 0.0397\n",
      "Epoch [7/10], Step [700/938], Loss: 0.0165\n",
      "Epoch [7/10], Step [800/938], Loss: 0.0684\n",
      "Epoch [7/10], Step [900/938], Loss: 0.0582\n",
      "Epoch [8/10], Step [100/938], Loss: 0.0028\n",
      "Epoch [8/10], Step [200/938], Loss: 0.0241\n",
      "Epoch [8/10], Step [300/938], Loss: 0.0040\n",
      "Epoch [8/10], Step [400/938], Loss: 0.0520\n",
      "Epoch [8/10], Step [500/938], Loss: 0.0064\n",
      "Epoch [8/10], Step [600/938], Loss: 0.0069\n",
      "Epoch [8/10], Step [700/938], Loss: 0.0268\n",
      "Epoch [8/10], Step [800/938], Loss: 0.0071\n",
      "Epoch [8/10], Step [900/938], Loss: 0.0018\n",
      "Epoch [9/10], Step [100/938], Loss: 0.0092\n",
      "Epoch [9/10], Step [200/938], Loss: 0.0035\n",
      "Epoch [9/10], Step [300/938], Loss: 0.0019\n",
      "Epoch [9/10], Step [400/938], Loss: 0.0414\n",
      "Epoch [9/10], Step [500/938], Loss: 0.0040\n",
      "Epoch [9/10], Step [600/938], Loss: 0.0715\n",
      "Epoch [9/10], Step [700/938], Loss: 0.0054\n",
      "Epoch [9/10], Step [800/938], Loss: 0.0041\n",
      "Epoch [9/10], Step [900/938], Loss: 0.0347\n",
      "Epoch [10/10], Step [100/938], Loss: 0.0085\n",
      "Epoch [10/10], Step [200/938], Loss: 0.0053\n",
      "Epoch [10/10], Step [300/938], Loss: 0.0026\n",
      "Epoch [10/10], Step [400/938], Loss: 0.0033\n",
      "Epoch [10/10], Step [500/938], Loss: 0.0073\n",
      "Epoch [10/10], Step [600/938], Loss: 0.0007\n",
      "Epoch [10/10], Step [700/938], Loss: 0.0078\n",
      "Epoch [10/10], Step [800/938], Loss: 0.0173\n",
      "Epoch [10/10], Step [900/938], Loss: 0.0591\n",
      "Training finished!\n"
     ]
    }
   ],
   "source": [
    "# 모델 학습\n",
    "for epoch in range(num_epochs):\n",
    "    for i, (images, labels) in enumerate(train_loader):\n",
    "        images = images.to(device)\n",
    "        labels = labels.to(device)\n",
    "\n",
    "        # Forward pass\n",
    "        outputs = model(images)\n",
    "        loss = criterion(outputs, labels)\n",
    "\n",
    "        # Backward and optimize\n",
    "        optimizer.zero_grad()\n",
    "        loss.backward()\n",
    "        optimizer.step()\n",
    "\n",
    "        if (i+1) % 100 == 0:\n",
    "            print(f'Epoch [{epoch+1}/{num_epochs}], Step [{i+1}/{len(train_loader)}], Loss: {loss.item():.4f}')\n",
    "\n",
    "print('Training finished!')"
   ]
  },
  {
   "cell_type": "code",
   "execution_count": null,
   "metadata": {},
   "outputs": [],
   "source": []
  },
  {
   "cell_type": "code",
   "execution_count": null,
   "metadata": {},
   "outputs": [],
   "source": []
  },
  {
   "cell_type": "code",
   "execution_count": 12,
   "metadata": {},
   "outputs": [
    {
     "data": {
      "image/png": "[encoded data removed]",
      "text/plain": [
       "<Figure size 432x288 with 1 Axes>"
      ]
     },
     "metadata": {
      "needs_background": "light"
     },
     "output_type": "display_data"
    },
    {
     "name": "stdout",
     "output_type": "stream",
     "text": [
      "실제 라벨: 9, 예측 라벨: 5\n"
     ]
    },
    {
     "data": {
      "image/png": "[encoded data removed]",
      "text/plain": [
       "<Figure size 432x288 with 1 Axes>"
      ]
     },
     "metadata": {
      "needs_background": "light"
     },
     "output_type": "display_data"
    },
    {
     "name": "stdout",
     "output_type": "stream",
     "text": [
      "실제 라벨: 9, 예측 라벨: 5\n"
     ]
    },
    {
     "data": {
      "image/png": "[encoded data removed]",
      "text/plain": [
       "<Figure size 432x288 with 1 Axes>"
      ]
     },
     "metadata": {
      "needs_background": "light"
     },
     "output_type": "display_data"
    },
    {
     "name": "stdout",
     "output_type": "stream",
     "text": [
      "실제 라벨: 9, 예측 라벨: 8\n"
     ]
    },
    {
     "data": {
      "image/png": "[encoded data removed]",
      "text/plain": [
       "<Figure size 432x288 with 1 Axes>"
      ]
     },
     "metadata": {
      "needs_background": "light"
     },
     "output_type": "display_data"
    },
    {
     "name": "stdout",
     "output_type": "stream",
     "text": [
      "실제 라벨: 9, 예측 라벨: 5\n"
     ]
    },
    {
     "data": {
      "image/png": "[encoded data removed]",
      "text/plain": [
       "<Figure size 432x288 with 1 Axes>"
      ]
     },
     "metadata": {
      "needs_background": "light"
     },
     "output_type": "display_data"
    },
    {
     "name": "stdout",
     "output_type": "stream",
     "text": [
      "실제 라벨: 4, 예측 라벨: 2\n",
      "Accuracy of the network on the 10000 test images: 98.046875 %\n"
     ]
    }
   ],
   "source": [
    "# 모델 평가 및 예측 실패 데이터 확인\n",
    "model.eval() #사실 이걸 제대로 사용해본적이 없어서.. 나중에 뜯어볼 수 있으면 뜯어보자\n",
    "with torch.no_grad():# 이미 학습이 끝나서 불필요\n",
    "    correct = 0\n",
    "    total = 0\n",
    "    num_samples = 0  # 예측 실패 데이터의 수를 카운트하기 위한  수\n",
    "    for images, labels in test_loader:\n",
    "        images = images.to(device)\n",
    "        labels = labels.to(device)\n",
    "        outputs = model(images)\n",
    "        _, predicted = torch.max(outputs.data, 1) #★ _,는 사용하지 않은 변수들에 대한 광요 표현?\n",
    "        total += labels.size(0)\n",
    "        correct += (predicted == labels).sum().item() #sum().item 텐서의 스칼라값 어떻게 하는지 본 것 같은데 뭔가 생소하네\n",
    "\n",
    "        # 예측 실패한 데이터 출력 (내가 가장 필요했던 것 대충은 알겠는데 아무래도 이 매소드 자체를 몰라서 정확히는 모르겠다.)\n",
    "        incorrect_idx = (predicted != labels)\n",
    "        if incorrect_idx.sum() > 0:\n",
    "            incorrect_images = images[incorrect_idx]\n",
    "            incorrect_labels = labels[incorrect_idx]\n",
    "            incorrect_predictions = predicted[incorrect_idx]\n",
    "            #정확하게는 이 코드 자체는 쉬운데 어떻게 저렇게 저장되고 만들어졌는지가 헷갈리네\n",
    "\n",
    "            # 예측 실패 데이터 출력 (최대 3개)\n",
    "            for idx in range(incorrect_idx.sum()):  \n",
    "                imshow(incorrect_images[idx].cpu())\n",
    "                print(f'실제 라벨: {incorrect_labels[idx]}, 예측 라벨: {incorrect_predictions[idx]}')\n",
    "                num_samples += 1\n",
    "\n",
    "       \n",
    "        \n",
    "        if num_samples >= 5:  # 원하는 개수만큼 출력하면 전체 반복문을 종료합니다.\n",
    "            break\n",
    "\n",
    "    print(f'Accuracy of the network on the 10000 test images: {100 * correct / total} %')"
   ]
  },
  {
   "cell_type": "code",
   "execution_count": null,
   "metadata": {},
   "outputs": [],
   "source": []
  },
  {
   "cell_type": "code",
   "execution_count": null,
   "metadata": {},
   "outputs": [],
   "source": []
  }
 ],
 "metadata": {
  "kernelspec": {
   "display_name": "Python 3",
   "language": "python",
   "name": "python3"
  },
  "language_info": {
   "codemirror_mode": {
    "name": "ipython",
    "version": 3
   },
   "file_extension": ".py",
   "mimetype": "text/x-python",
   "name": "python",
   "nbconvert_exporter": "python",
   "pygments_lexer": "ipython3",
   "version": "3.8.3"
  }
 },
 "nbformat": 4,
 "nbformat_minor": 4
}
