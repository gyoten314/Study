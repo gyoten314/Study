{
 "cells": [
  {
   "cell_type": "markdown",
   "metadata": {},
   "source": [
    "# 비전공자를 위한 AI 딥러닝(Deep Learning)\n"
   ]
  },
  {
   "cell_type": "markdown",
   "metadata": {},
   "source": [
    "#회귀분석\n",
    "####  $$ E = \\frac{1}{m} \\sum_{k=0}^{m} (\\hat{y}_m - y_m)^2 $$\n",
    "\n",
    " Latex 작성법 논문 작성을 위해서 언젠가는 배워야 한다고 생각했는데 바로 지금이다\n",
    " 회귀분석 처음에는 데이터셋으로 하려고 했는데 생각보다 만지기 까다로워서 우선은 내가 직접 구현\n",
    " 어차피 회귀분석 할 일은 많고 내가 데이터 만들고 해보는것도 나쁘지 않지\n",
    " "
   ]
  },
  {
   "cell_type": "code",
   "execution_count": 1,
   "metadata": {},
   "outputs": [
    {
     "name": "stdout",
     "output_type": "stream",
     "text": [
      "Intercept와 Coefficient: [[3.95840198]\n",
      " [3.00069298]]\n",
      "새로운 데이터에 대한 예측: [[3.95840198]\n",
      " [9.95978794]]\n"
     ]
    },
    {
     "data": {
      "image/png": "[encoded data removed]",
      "text/plain": [
       "<Figure size 432x288 with 1 Axes>"
      ]
     },
     "metadata": {
      "needs_background": "light"
     },
     "output_type": "display_data"
    }
   ],
   "source": [
    "import numpy as np\n",
    "import matplotlib.pyplot as plt   \n",
    "\n",
    "#실습때 연습하기는 했는데 그래도 뭔가 좋은 코드가 어떤건지 보고 싶어 gpt의 힘을 빌려서 봤다.(\n",
    "#내가 직접 구현하려고 했는데 데이터 생성이랑 절편(insert 함수를 썼는데 지정분 정규방정식 구현부터 막히더라 결국 gpt의 힘을..\n",
    "\n",
    "# 데이터 생성\n",
    "#np.random.seed(0) \n",
    "X = 2 * np.random.rand(100, 1)  # 0에서 2까지의 난수데이터를 100개 만들어보자!\n",
    "y = 4 + 3 * X + np.random.randn(100, 1)  #회괴분석 구현 Y = 3X + 4 + e\n",
    "\n",
    "# X에 절편(intercept)을 추가\n",
    "X_b = np.c_[np.ones((100, 1)), X]  # X절편을 추가하는 것 np.c 함수 연습하기  이 과정이 필요한 이유는 수학으로 치면 y= b0 + b1\n",
    " \n",
    "# 정규 방정식을 사용하여 theta 계산\n",
    "theta_best = np.linalg.inv(X_b.T.dot(X_b)).dot(X_b.T).dot(y) #liang.inv 이게 기억이 안 나서..\n",
    "\n",
    "# theta_best 출력\n",
    "print(\"Intercept와 Coefficient:\", theta_best)\n",
    "\n",
    "# 새로운 데이터에 대한 예측\n",
    "X_new = np.array([[0], [2]]) #★ 아 뭐지 이거 리스타아닌가?  싶었느데 이렇게 하나는 정수로 취급인가 신기하네\n",
    "X_new_b = np.c_[np.ones((2, 1)), X_new]  #  절편추가\n",
    "y_predict = X_new_b.dot(theta_best)\n",
    "print(\"새로운 데이터에 대한 예측:\", y_predict)\n",
    "\n",
    "# 데이터 시각화\n",
    "plt.plot(X, y, \"b.\")\n",
    "plt.plot(X_new, y_predict, \"r-\") #이게 왜 선인지지 했는데 - 이게 선이구나 그동안 시각화 하면서 왜 몰랐지?\n",
    "plt.xlabel(\"X\")\n",
    "plt.ylabel(\"y\")\n",
    "plt.title(\"Linear Regression\")\n",
    "plt.show()"
   ]
  },
  {
   "cell_type": "markdown",
   "metadata": {},
   "source": [
    "# 사족\n"
   ]
  },
  {
   "cell_type": "code",
   "execution_count": 2,
   "metadata": {},
   "outputs": [
    {
     "name": "stdout",
     "output_type": "stream",
     "text": [
      "[[ 1  2  3  4  5  6]\n",
      " [ 7  8  9 10 11 12]]\n",
      "★\n",
      "[[ 1  2  3]\n",
      " [ 7  8  9]\n",
      " [ 4  5  6]\n",
      " [10 11 12]]\n"
     ]
    }
   ],
   "source": [
    "import numpy as np\n",
    "\n",
    "# 예제 배열 생성\n",
    "a = np.array([[1, 2, 3], [7, 8, 9]])\n",
    "b = np.array([[4, 5, 6], [10, 11, 12]])\n",
    "\n",
    "# np.c_를 사용하여 열로 배열 합치기\n",
    "result_c = np.c_[a, b]\n",
    "result_r = np.r_[a, b]\n",
    "\n",
    "print(result_c)\n",
    "print(\"★\")\n",
    "print(result_r)"
   ]
  },
  {
   "cell_type": "code",
   "execution_count": null,
   "metadata": {},
   "outputs": [],
   "source": []
  },
  {
   "cell_type": "code",
   "execution_count": null,
   "metadata": {},
   "outputs": [],
   "source": [
    " "
   ]
  },
  {
   "cell_type": "markdown",
   "metadata": {},
   "source": [
    "# Mnist\n",
    "\n",
    "텐서플로우 import 이 안 되어서 포기하려다가 그냥 torch로 도전!\n",
    "실패..\n",
    "그냥 여러가지 메모 남겨놓는데 의미를 두자"
   ]
  },
  {
   "cell_type": "code",
   "execution_count": 3,
   "metadata": {},
   "outputs": [
    {
     "data": {
      "image/png": "[encoded data removed]",
      "text/plain": [
       "<Figure size 432x288 with 1 Axes>"
      ]
     },
     "metadata": {
      "needs_background": "light"
     },
     "output_type": "display_data"
    }
   ],
   "source": [
    "import torch\n",
    "import torchvision\n",
    "import matplotlib.pyplot as plt\n",
    "\n",
    "# MNIST 데이터셋 불러오기\n",
    "train_dataset = torchvision.datasets.MNIST(root='./data', train=True, download=True, transform=torchvision.transforms.ToTensor())\n",
    "test_dataset = torchvision.datasets.MNIST(root='./data', train=False, download=True, transform=torchvision.transforms.ToTensor())\n",
    "\n",
    "#첫 번째 이미지와 레이블 확인\n",
    "image, label = train_dataset[9]\n",
    "plt.imshow(image.squeeze(), cmap='gray') # 시각화를 위해서 squeeze로 불필요한 차원 제거\n",
    "plt.title(f'Label: {label}')\n",
    "#plt.axis('off')\n",
    "plt.show()\n"
   ]
  },
  {
   "cell_type": "code",
   "execution_count": 4,
   "metadata": {},
   "outputs": [
    {
     "name": "stdout",
     "output_type": "stream",
     "text": [
      "Dataset MNIST\n",
      "    Number of datapoints: 60000\n",
      "    Root location: ./data\n",
      "    Split: Train\n",
      "    StandardTransform\n",
      "Transform: ToTensor()\n",
      "60000\n",
      "★\n",
      "torch.Size([1, 28, 28])\n",
      "5\n"
     ]
    }
   ],
   "source": [
    "print(  train_dataset)  # 훈련 데이터셋의 샘플 개수 출력\n",
    "print(len(train_dataset))  # 훈련 데이터셋의 샘플 개수 출력\n",
    "sample_image, sample_label = train_dataset[0]\n",
    "print(\"★\")\n",
    "print(sample_image.shape)  # 이미지의 형태 출력\n",
    "print(sample_label)"
   ]
  },
  {
   "cell_type": "code",
   "execution_count": null,
   "metadata": {},
   "outputs": [],
   "source": [
    "\n",
    "# 훈련 데이터셋의 이미지와 레이블 분리\n",
    "x_train = []\n",
    "y_train = []\n",
    "for image, label in train_dataset:\n",
    "    x_train.append(image)\n",
    "    y_train.append(label)\n",
    "\n",
    "# 첫 번째 이미지와 레이블 확인\n",
    "first_image = x_train[0].squeeze()  # squeeze()로 불필요한 차원 제거\n",
    "first_label = y_train[0]\n",
    "\n",
    "plt.imshow(first_image, cmap='gray')\n",
    "plt.title(f'Label: {first_label}')\n",
    "plt.axis('off')  # 축 숨기기\n",
    "plt.show()\n",
    "\n",
    " "
   ]
  },
  {
   "cell_type": "code",
   "execution_count": null,
   "metadata": {},
   "outputs": [],
   "source": [
    "print(x_train[5])\n",
    "print(y_train[5])\n",
    " \n",
    "first_image = x_train[5].squeeze()  # squeeze()로 불필요한 차원 제거\n",
    "\n",
    "plt.imshow(first_image, cmap='gray')\n"
   ]
  },
  {
   "cell_type": "code",
   "execution_count": null,
   "metadata": {},
   "outputs": [],
   "source": [
    "print(x_train[0].shape)\n",
    " "
   ]
  },
  {
   "cell_type": "code",
   "execution_count": null,
   "metadata": {},
   "outputs": [],
   "source": []
  },
  {
   "cell_type": "code",
   "execution_count": null,
   "metadata": {},
   "outputs": [],
   "source": []
  }
 ],
 "metadata": {
  "kernelspec": {
   "display_name": "Python 3",
   "language": "python",
   "name": "python3"
  },
  "language_info": {
   "codemirror_mode": {
    "name": "ipython",
    "version": 3
   },
   "file_extension": ".py",
   "mimetype": "text/x-python",
   "name": "python",
   "nbconvert_exporter": "python",
   "pygments_lexer": "ipython3",
   "version": "3.8.3"
  }
 },
 "nbformat": 4,
 "nbformat_minor": 4
}
