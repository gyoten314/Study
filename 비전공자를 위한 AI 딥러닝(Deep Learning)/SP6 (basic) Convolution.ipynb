{
 "cells": [
  {
   "cell_type": "markdown",
   "metadata": {},
   "source": [
    "# Convolution연산 구현 (데이터)"
   ]
  },
  {
   "cell_type": "code",
   "execution_count": 4,
   "metadata": {},
   "outputs": [
    {
     "name": "stdout",
     "output_type": "stream",
     "text": [
      "Input Data:\n",
      "[[0 1 1 0 1]\n",
      " [1 1 1 1 1]\n",
      " [1 0 0 1 0]\n",
      " [0 0 0 0 1]\n",
      " [0 1 1 0 0]]\n",
      "\n",
      "Convolution Filter:\n",
      "[[-1  0  0]\n",
      " [-1  0  0]\n",
      " [ 0  0  0]]\n"
     ]
    }
   ],
   "source": [
    "import numpy as np\n",
    "\n",
    "#  5X 5 의 실험용 데이터 생성   \n",
    "np.random.seed(0)\n",
    "data = np.random.randint(2, size=(5, 5))\n",
    "print(\"Input Data:\")\n",
    "print(data)\n",
    "\n",
    "# 3x3 필터 생성 (0부터 5까지의 정수)\n",
    "np.random.seed(0)\n",
    "filter =  np.random.randint(-1, 1, size=(3, 3))\n",
    "print(\"\\nConvolution Filter:\")\n",
    "print(filter)\n"
   ]
  },
  {
   "cell_type": "markdown",
   "metadata": {},
   "source": [
    "# Convolution연산 구현 (함수 및 계산)"
   ]
  },
  {
   "cell_type": "code",
   "execution_count": 2,
   "metadata": {},
   "outputs": [
    {
     "ename": "NameError",
     "evalue": "name 'data' is not defined",
     "output_type": "error",
     "traceback": [
      "\u001b[1;31m---------------------------------------------------------------------------\u001b[0m",
      "\u001b[1;31mNameError\u001b[0m                                 Traceback (most recent call last)",
      "\u001b[1;32m<ipython-input-2-a905fa49bd9e>\u001b[0m in \u001b[0;36m<module>\u001b[1;34m\u001b[0m\n\u001b[0;32m     14\u001b[0m \u001b[1;33m\u001b[0m\u001b[0m\n\u001b[0;32m     15\u001b[0m \u001b[1;31m# 합성곱 연산 수행\u001b[0m\u001b[1;33m\u001b[0m\u001b[1;33m\u001b[0m\u001b[1;33m\u001b[0m\u001b[0m\n\u001b[1;32m---> 16\u001b[1;33m \u001b[0moutput\u001b[0m \u001b[1;33m=\u001b[0m \u001b[0mconvolution2d\u001b[0m\u001b[1;33m(\u001b[0m\u001b[0mdata\u001b[0m\u001b[1;33m,\u001b[0m \u001b[0mfilter\u001b[0m\u001b[1;33m)\u001b[0m\u001b[1;33m\u001b[0m\u001b[1;33m\u001b[0m\u001b[0m\n\u001b[0m\u001b[0;32m     17\u001b[0m \u001b[1;33m\u001b[0m\u001b[0m\n\u001b[0;32m     18\u001b[0m \u001b[1;31m# 결과 출력\u001b[0m\u001b[1;33m\u001b[0m\u001b[1;33m\u001b[0m\u001b[1;33m\u001b[0m\u001b[0m\n",
      "\u001b[1;31mNameError\u001b[0m: name 'data' is not defined"
     ]
    }
   ],
   "source": [
    "# Convoution 함수 정의 (데이터는 arg 인자를 받아오는거까 굳이 self 사용할 필요 없음)\n",
    "def convolution2d(data, filter):\n",
    "    filter_size = filter.shape[0]\n",
    "    data_size = data.shape[0]\n",
    "    output_size = data_size - filter_size + 1\n",
    "    output = np.zeros((output_size, output_size))\n",
    "    #문득 깨달은건데... 정사각형이 아니라 직사각형이면 코딩하기 빡세겠군 나중에 생각해볼 문제\n",
    "    \n",
    "    for i in range(output_size):\n",
    "        for j in range(output_size):\n",
    "            output[i, j] = np.sum(data[i:i+filter_size, j:j+filter_size] * filter)\n",
    "\n",
    "    return output\n",
    "\n",
    "# 합성곱 연산 수행\n",
    "output = convolution2d(data, filter)\n",
    "\n",
    "# 결과 출력\n",
    "print(\"\\nOutput Data after Convolution:\")\n",
    "print(output)\n"
   ]
  },
  {
   "cell_type": "markdown",
   "metadata": {},
   "source": [
    "저거 구현까지는 얼마 안 걸렸다.\n",
    "GPT의 힘을 빌리지 않고도 내 순수한 힘만으로도 구현 가능했던 유일한 문제!\n",
    "(인데 역시 내가 짠 코드랑 GPT가 짠 코드랑 비교해보니까 뭔가 깔끔함이나 가독성 이런게 미묘하게 다르더라...)\n",
    "(가장 차이 나는건 변수명 센스...)\n",
    "\n",
    "구현하면서 느낀건데 진짜 간단하게 구현해서 Convoltuon연산이라고 하기도 그럼..\n",
    "근데 이거 하는데 시간 많이 걸렸다. 저거 구현은 금방 끝났는데,\n",
    "주제도 모르고 저 과정 애니매이션으로 구현해보겠다고 하고 시간만 날림\n",
    "\n",
    "자기 능력에 맞게 공부하는게 중요하다. 반성 또 반성.\n"
   ]
  },
  {
   "cell_type": "code",
   "execution_count": null,
   "metadata": {},
   "outputs": [],
   "source": []
  },
  {
   "cell_type": "code",
   "execution_count": null,
   "metadata": {},
   "outputs": [],
   "source": []
  },
  {
   "cell_type": "code",
   "execution_count": null,
   "metadata": {},
   "outputs": [],
   "source": []
  }
 ],
 "metadata": {
  "kernelspec": {
   "display_name": "Python 3",
   "language": "python",
   "name": "python3"
  },
  "language_info": {
   "codemirror_mode": {
    "name": "ipython",
    "version": 3
   },
   "file_extension": ".py",
   "mimetype": "text/x-python",
   "name": "python",
   "nbconvert_exporter": "python",
   "pygments_lexer": "ipython3",
   "version": "3.8.3"
  }
 },
 "nbformat": 4,
 "nbformat_minor": 4
}
